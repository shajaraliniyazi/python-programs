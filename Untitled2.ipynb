{
  "nbformat": 4,
  "nbformat_minor": 0,
  "metadata": {
    "colab": {
      "provenance": [],
      "authorship_tag": "ABX9TyOKJa/pqRZnwUPMiHHgVjwE",
      "include_colab_link": true
    },
    "kernelspec": {
      "name": "python3",
      "display_name": "Python 3"
    },
    "language_info": {
      "name": "python"
    }
  },
  "cells": [
    {
      "cell_type": "markdown",
      "metadata": {
        "id": "view-in-github",
        "colab_type": "text"
      },
      "source": [
        "<a href=\"https://colab.research.google.com/github/shajaraliniyazi/python-programs/blob/main/Untitled2.ipynb\" target=\"_parent\"><img src=\"https://colab.research.google.com/assets/colab-badge.svg\" alt=\"Open In Colab\"/></a>"
      ]
    },
    {
      "cell_type": "code",
      "execution_count": null,
      "metadata": {
        "id": "Df2saYS4zScI"
      },
      "outputs": [],
      "source": []
    },
    {
      "cell_type": "markdown",
      "source": [
        "#session 1 task\n",
        "Q1 :- Print the given strings as per stated format.\n",
        "Given strings:\n",
        "\n",
        "\"Data\" \"Science\" \"Mentorship\" \"Program\"\n",
        "\"By\" \"CampusX\"\n",
        "Output:\n",
        "\n",
        "Data-Science-Mentorship-Program-started-By-CampusX"
      ],
      "metadata": {
        "id": "QAE2QBvxzoJX"
      }
    },
    {
      "cell_type": "code",
      "source": [
        "print(\n",
        "\"Data\", \"Science\", \"Mentorship\", \"Program\",\"started\",\n",
        "\"By\" ,\"CampusX\",sep='-')"
      ],
      "metadata": {
        "colab": {
          "base_uri": "https://localhost:8080/"
        },
        "id": "-KeQ28jDzrJ4",
        "outputId": "135d590a-a06f-46a0-ad10-b104add4ff31"
      },
      "execution_count": 1,
      "outputs": [
        {
          "output_type": "stream",
          "name": "stdout",
          "text": [
            "Data-Science-Mentorship-Program-started-By-CampusX\n"
          ]
        }
      ]
    },
    {
      "cell_type": "code",
      "source": [
        "##Q2:- Write a program that will convert celsius value to fahrenheit."
      ],
      "metadata": {
        "id": "rbTzGv0BzuoD"
      },
      "execution_count": null,
      "outputs": []
    },
    {
      "cell_type": "code",
      "source": [
        "celcius= int(input('enter celcius'))\n",
        "fer= celcius*(9/5)+32\n",
        "print (fer)"
      ],
      "metadata": {
        "id": "tUlUEWcWz0MW"
      },
      "execution_count": null,
      "outputs": []
    },
    {
      "cell_type": "code",
      "source": [
        "### Q3:- Take 2 numbers as input from the user.Write a program to swap the numbers without using any special python syntax.\n",
        "\n",
        "\n",
        "num1= int(input('enter first number'))\n",
        "num2= int(input('enter second number'))\n",
        "\n",
        "temp= num1\n",
        "num1=num2\n",
        "num2=temp\n",
        "print(num1)\n",
        "print(num2)\n"
      ],
      "metadata": {
        "id": "VVoI8cMKz3yQ"
      },
      "execution_count": null,
      "outputs": []
    },
    {
      "cell_type": "code",
      "source": [
        "### Q4:- Write a program to find the euclidean distance between two coordinates.Take both the coordinates from the user as input.\n",
        "\n",
        "p1x=int(input('enter x cordinate of point 1'))\n",
        "p1y=int(input('enter y cordinate of point 1'))\n",
        "p2x=int(input('enter x cordinate of point 2'))\n",
        "p2y=int(input('enter y cordinate of point 2'))\n",
        "\n",
        "distance= ((p2x-p1x)**2 + (p2y-p1y)**2)**0.5\n",
        "print(round(distance,2))"
      ],
      "metadata": {
        "id": "lpQS-SlLz3vn"
      },
      "execution_count": null,
      "outputs": []
    },
    {
      "cell_type": "code",
      "source": [
        "##Q5:- Write a program to find the simple interest when the value of principle,rate of interest and time period is provided by the user.\n",
        "\n",
        "p=int(input('enter principle amount'))\n",
        "r=int(input('enter rate percentage'))\n",
        "t=int(input('enter time in years'))\n",
        "\n",
        "si=(p*r*t)/100\n",
        "print(si)"
      ],
      "metadata": {
        "id": "R0gKI9Tuz3tY"
      },
      "execution_count": null,
      "outputs": []
    },
    {
      "cell_type": "code",
      "source": [
        "### Q6:- Write a program that will tell the number of dogs and chicken are there when the user will provide the value of total heads and legs.\n",
        "\n",
        "nhead=int(input('number of heads'))\n",
        "nleg=int(input('number of legs'))\n",
        "print('number of dog is',nleg/2-nhead)\n",
        "print('number of chicken is', 2*nhead-(nleg/2) )"
      ],
      "metadata": {
        "id": "pgu0gzF9z3rH"
      },
      "execution_count": null,
      "outputs": []
    },
    {
      "cell_type": "code",
      "source": [
        "### Q7:- Write a program to find the sum of squares of first n natural numbers where n will be provided by the user.\n",
        "\n",
        "num= int(input('enter n'))\n",
        "result = (num*(num+1)*(2*num+1))/6\n",
        "print(result)\n"
      ],
      "metadata": {
        "id": "bzNjZEOSz3on"
      },
      "execution_count": null,
      "outputs": []
    },
    {
      "cell_type": "code",
      "source": [
        "### Q8:- Given the first 2 terms of an Arithmetic Series.Find the Nth term of the series. Assume all inputs are provided by the user.\n",
        "fnum= int(input('enter first number'))\n",
        "snum= int(input('enter secomd number'))\n",
        "nth= int(input('enter nth term'))\n",
        "d=snum-fnum\n",
        "an=fnum+(nth-1)*d\n",
        "print(an)"
      ],
      "metadata": {
        "id": "uzltotFMz3mH"
      },
      "execution_count": null,
      "outputs": []
    },
    {
      "cell_type": "code",
      "source": [
        "### Q9:- Given 2 fractions, find the sum of those 2 fractions.Take the\n",
        "##numerator and denominator values of the fractions from the user.\n",
        "\n",
        "n1=int(input('enter 1 numerator'))\n",
        "d1=int(input('enter 1 denomenator'))\n",
        "n2=int(input('enter 2 numerator'))\n",
        "d2=int(input('enter 2 denomenator'))\n",
        "\n",
        "fractionnum=n1*d2+n2*d2\n",
        "fractionden=d1*d2\n",
        "print('{}/{}'.format(fractionnum,fractionden))"
      ],
      "metadata": {
        "id": "AG5OJcw-z3kV"
      },
      "execution_count": null,
      "outputs": []
    },
    {
      "cell_type": "markdown",
      "source": [
        "Q10:- Given the height, width and breadth of a milk tank, you have to find out how many glasses of milk can be obtained?\n",
        "Assume all the inputs are provided by the user.\n",
        "Input:\n",
        "Dimensions of the milk tank\n",
        "H = 20cm, L = 20cm, B = 20cm\n",
        "\n",
        "Dimensions of the glass\n",
        "h = 3cm, r = 1cm"
      ],
      "metadata": {
        "id": "oxdBiWpz0Syv"
      }
    },
    {
      "cell_type": "code",
      "source": [
        "#milk tank is cuboid\n",
        "\n",
        "import math\n",
        "\n",
        "l=float(input('lenth of the tank'))\n",
        "b=float(input('breath of the tank'))\n",
        "h=float(input('hight of the tank'))\n",
        "#glass is cylinder\n",
        "h_glass=float(input('hight of the glass'))\n",
        "r=float(input('radius of the glass'))\n",
        "\n",
        "v_of_tank=l*b*h\n",
        "v_of_glass=3.14*r*r*h_glass\n",
        "print('no of glass are',math.floor(v_of_tank/v_of_glass))"
      ],
      "metadata": {
        "id": "gPkwthOUz3ff"
      },
      "execution_count": null,
      "outputs": []
    },
    {
      "cell_type": "markdown",
      "source": [
        "# session 2 task\n",
        "Problem 1: Write a program that will give you in hand monthly salary after deduction on CTC - HRA(10%), DA(5%), PF(3%) and taxes deduction as below:\n",
        "Salary(Lakhs) : Tax(%)\n",
        "\n",
        "Below 5 : 0%\n",
        "5-10 : 10%\n",
        "10-20 : 20%\n",
        "aboove 20 : 30%"
      ],
      "metadata": {
        "id": "Yrd0JGjJ0eXH"
      }
    },
    {
      "cell_type": "code",
      "source": [
        "ctc=int(input('enter your annual ctc'))\n",
        "if ctc<500000:\n",
        "  salary=ctc*.82\n",
        "elif ctc<1000000:\n",
        "  salary=ctc*.72\n",
        "elif ctc<2000000:\n",
        "  salary=ctc*.62\n",
        "else:\n",
        "  salary=ctc*.52\n",
        "\n",
        "print('your in hand salary per month is ',salary/12)"
      ],
      "metadata": {
        "id": "1F_P7ucMz3df"
      },
      "execution_count": null,
      "outputs": []
    },
    {
      "cell_type": "markdown",
      "source": [
        "Problem 2: Write a program that take a user input of three angles and will find out whether it can form a triangle or not."
      ],
      "metadata": {
        "id": "0vIoGtoy0qHX"
      }
    },
    {
      "cell_type": "code",
      "source": [
        "a1=int(input('angle 1 measure'))\n",
        "a2=int(input('angle 2 measure'))\n",
        "a3=int(input('angle 3 measure'))\n",
        "\n",
        "if a1+a2+a3==180:\n",
        "  print('yes it can form a traingle')\n",
        "else:\n",
        "  print('no')"
      ],
      "metadata": {
        "id": "XA0VL67dz3bJ"
      },
      "execution_count": null,
      "outputs": []
    },
    {
      "cell_type": "code",
      "source": [
        "##Problem 3: Write a program that will take user input of\n",
        "##cost price and selling price and determines whether its a loss or a profit.\n",
        "\n",
        "cp=int(input('enter cost price'))\n",
        "sp=int(input('enter selling price'))\n",
        "\n",
        "if cp>sp:\n",
        "  print('loss')\n",
        "elif cp==sp:\n",
        "  print('no loss no profit')\n",
        "else:"
      ],
      "metadata": {
        "id": "_nNdovvPz3Vf"
      },
      "execution_count": null,
      "outputs": []
    },
    {
      "cell_type": "code",
      "source": [
        "Problem 4: Write a menu-driven program -\n",
        "cm to ft\n",
        "km to miles\n",
        "USD to INR\n",
        "exit\n"
      ],
      "metadata": {
        "id": "HsUtPi59z3Qv"
      },
      "execution_count": null,
      "outputs": []
    },
    {
      "cell_type": "code",
      "source": [
        "menu=int(input(\"\"\"\n",
        "hello choose any one option\n",
        "1.cm to ft\n",
        "2.km to miles\n",
        "3.usd to inr\n",
        "4.exit\n",
        "\"\"\"))\n",
        "if menu==1:\n",
        "  cm=float(input('enter cm value'))\n",
        "  print('ft value is',cm*0.032)\n",
        "elif menu==2:\n",
        "  km=float(input('enter km value'))\n",
        "  print('miles value is',km*.62)\n",
        "elif menu==3:\n",
        "  usd=float(input('enter dollrer amount'))\n",
        "  print('indian rs equals to',usd*80 )\n",
        "else:\n",
        "  menu==4\n",
        "  print('thanks for coming')"
      ],
      "metadata": {
        "colab": {
          "base_uri": "https://localhost:8080/"
        },
        "id": "NlrO1z5Az3I_",
        "outputId": "ebb1ee32-2d60-4b43-f4d9-d0bbe2d8683c"
      },
      "execution_count": 2,
      "outputs": [
        {
          "output_type": "stream",
          "name": "stdout",
          "text": [
            "\n",
            "hello choose any one option\n",
            "1.cm to ft\n",
            "2.km to miles\n",
            "3.usd to inr\n",
            "4.exit\n",
            "1\n",
            "enter cm value5\n",
            "ft value is 0.16\n"
          ]
        }
      ]
    },
    {
      "cell_type": "code",
      "source": [
        "Problem 5 - Exercise 12: Display Fibonacci series up to 10 terms.\n",
        "Note: The Fibonacci Sequence is a series of numbers.\n",
        "The next number is found by adding up the two numbers before it.\n",
        " The first two numbers are 0 and 1. For example, 0, 1, 1, 2, 3, 5, 8, 13, 21.\n",
        "  The next number in this series above is 13+21 = 34"
      ],
      "metadata": {
        "id": "vdR46laK08PB"
      },
      "execution_count": null,
      "outputs": []
    },
    {
      "cell_type": "code",
      "source": [
        "num1,num2=0,1\n",
        "\n",
        "for x in range(11):\n",
        "  print(num1)\n",
        "\n",
        "  next=num1+num2\n",
        "  num1=num2\n",
        "  num2=next"
      ],
      "metadata": {
        "colab": {
          "base_uri": "https://localhost:8080/"
        },
        "id": "3EouKm7Z1Cd3",
        "outputId": "0f0b9295-e3c7-4b51-fdaa-7643b30eea67"
      },
      "execution_count": 3,
      "outputs": [
        {
          "output_type": "stream",
          "name": "stdout",
          "text": [
            "0\n",
            "1\n",
            "1\n",
            "2\n",
            "3\n",
            "5\n",
            "8\n",
            "13\n",
            "21\n",
            "34\n",
            "55\n"
          ]
        }
      ]
    },
    {
      "cell_type": "code",
      "source": [
        "Problem 6 - Find the factorial of a given number.\n",
        "Write a program to use the loop to find the factorial of a given number.\n",
        "\n",
        "The factorial (symbol: !) means to multiply all whole numbers from the chosen number down to 1.\n",
        "\n",
        "For example: calculate the factorial of 5\n",
        "\n",
        "5! = 5 × 4 × 3 × 2 × 1 = 120"
      ],
      "metadata": {
        "id": "l79nOLo51Cbn"
      },
      "execution_count": null,
      "outputs": []
    },
    {
      "cell_type": "code",
      "source": [
        "num= int(input('enter the number'))\n",
        "fact=1\n",
        "for x in range(1,num+1):\n",
        "  fact=fact*x\n",
        "print(fact)"
      ],
      "metadata": {
        "id": "vSH4w5G41CZm"
      },
      "execution_count": null,
      "outputs": []
    },
    {
      "cell_type": "code",
      "source": [
        "#Problem 7 - Reverse a given integer number.\n",
        "num=int(input('enter the number'))\n",
        "rev=0\n",
        "while num>0:\n",
        "  last=num%10\n",
        "  rev=rev*10+last\n",
        "  num=num//10\n",
        "print(rev)"
      ],
      "metadata": {
        "id": "8gnWm41y1CXf"
      },
      "execution_count": null,
      "outputs": []
    },
    {
      "cell_type": "code",
      "source": [
        "Problem 8: Take a user input as integer N.\n",
        "Find out the sum from 1 to N. If any number if divisible by 5, then skip that number.\n",
        " And if the sum is greater than 300, don't need to calculate the sum further more.\n",
        " Print the final result. And don't use for loop to solve this problem."
      ],
      "metadata": {
        "id": "3AyOtfGP1CVG"
      },
      "execution_count": null,
      "outputs": []
    },
    {
      "cell_type": "code",
      "source": [
        "n= int(input('enter the number'))\n",
        "sum=0\n",
        "for x in range(1,n+1):\n",
        "  if x % 5==0:\n",
        "    continue\n",
        "\n",
        "  sum += x\n",
        "\n",
        "  if sum>300:\n",
        "    sum -= x\n",
        "    break\n",
        "print(sum)\n",
        "\n"
      ],
      "metadata": {
        "id": "17ubXYf_1CSv"
      },
      "execution_count": null,
      "outputs": []
    },
    {
      "cell_type": "code",
      "source": [
        "#Problem 9: Write a program that keeps on accepting a number from the user until the user enters Zero.\n",
        "#Display the sum and average of all the numbers.\n",
        "\n",
        "sum=0\n",
        "count=0\n",
        "\n",
        "while True:\n",
        "  num=int(input('enter the number'))\n",
        "  if num==0:\n",
        "    break\n",
        "  sum=sum+num\n",
        "  count= count+1\n",
        "print('sum',sum)\n",
        "print('avg',sum/count)\n",
        "\n",
        "\n"
      ],
      "metadata": {
        "colab": {
          "base_uri": "https://localhost:8080/"
        },
        "id": "xsA7nh-U1CQG",
        "outputId": "7537fff1-0304-4a51-b2c4-b42231b611df"
      },
      "execution_count": 6,
      "outputs": [
        {
          "output_type": "stream",
          "name": "stdout",
          "text": [
            "enter the number4\n",
            "enter the number5\n",
            "enter the number5\n",
            "enter the number5\n",
            "enter the number5\n",
            "enter the number5\n",
            "enter the number0\n",
            "sum 29\n",
            "avg 4.833333333333333\n"
          ]
        }
      ]
    },
    {
      "cell_type": "code",
      "source": [
        "Problem 10: Write a program which will find all such numbers which are divisible by 7\n",
        "but are not a multiple of 5, between 2000 and 3200 (both included).\n",
        "The numbers obtained should be printed in a comma-separated sequence on a single line."
      ],
      "metadata": {
        "id": "ABwv_DYS1CIm"
      },
      "execution_count": null,
      "outputs": []
    },
    {
      "cell_type": "code",
      "source": [
        "l=[]\n",
        "for x in range(2000,3201):\n",
        "  if x%7==0 and x%5 !=0:\n",
        "    l.append(str(x))\n",
        "print(','.join(l))"
      ],
      "metadata": {
        "id": "z9HgoOtH1nYB"
      },
      "execution_count": null,
      "outputs": []
    },
    {
      "cell_type": "markdown",
      "source": [
        "Problem 10: Write a program, which will find all such numbers between 1000 and 3000 (both included) such that each digit of the number is an even number. The numbers obtained should be printed in a space-separated sequence on a single line."
      ],
      "metadata": {
        "id": "b9QY5raz1rJv"
      }
    },
    {
      "cell_type": "code",
      "source": [
        "l=[]\n",
        "for x in range(1000,3000):\n",
        "  flag =True\n",
        "  curr=x\n",
        "  while curr>0:\n",
        "    last=curr%10\n",
        "    if last % 2 !=0:\n",
        "      flag=False\n",
        "      break\n",
        "    curr=curr//10\n",
        "\n",
        "  if flag== True:\n",
        "    l.append(str(x))\n",
        "\n",
        "print(' '.join(l))\n"
      ],
      "metadata": {
        "id": "JebO4zSx1nU-"
      },
      "execution_count": null,
      "outputs": []
    },
    {
      "cell_type": "code",
      "source": [
        "Problem 11: A robot moves in a plane starting from the original point (0,0).\n",
        " The robot can move toward UP, DOWN, LEFT and RIGHT with a given steps.\n",
        "The trace of robot movement is shown as the following:\n",
        "\n",
        "UP 5\n",
        "DOWN 3\n",
        "LEFT 3\n",
        "RIGHT 2\n",
        "!\n",
        "The numbers after the direction are steps.\n",
        "\n",
        "! means robot stop there.\n",
        "\n",
        "Please write a program to compute the distance from current position after a sequence of movement and original point.\n",
        "\n",
        "If the distance is a float, then just print the nearest integer.\n",
        "\n",
        "Example:\n",
        "\n",
        "Input:\n",
        "\n",
        "UP 5\n",
        "DOWN 3\n",
        "LEFT 3\n",
        "RIGHT 2\n",
        "!"
      ],
      "metadata": {
        "id": "petCzzRs1nSW"
      },
      "execution_count": null,
      "outputs": []
    },
    {
      "cell_type": "code",
      "source": [
        "pos = [0,0]  ## x2 , y2\n",
        "while True:\n",
        "  s=input('enter the robot path')  ## UP 7\n",
        "  if s == '!':\n",
        "   break\n",
        "  direction=s.split()[0]    ## UP\n",
        "  steps= int(s.split()[1])   ## 7\n",
        "\n",
        "  if direction == 'UP':\n",
        "    pos[1] = pos[1] + steps\n",
        "  elif direction == 'DOWN' :\n",
        "    pos[1] = pos[1] - steps\n",
        "  elif direction == 'LEFT' :\n",
        "    pos[0] = pos[0] - steps\n",
        "  elif direction == 'RIGHT' :\n",
        "    pos [0] = pos[0] + steps\n",
        "  else:\n",
        "    pass\n",
        "\n",
        "print(pos[0] , pos[1])\n",
        "dis = (pos[0]**2 + pos[1]**2)**0.5\n",
        "print(dis)\n"
      ],
      "metadata": {
        "id": "U-TjSPhg1nP-"
      },
      "execution_count": null,
      "outputs": []
    },
    {
      "cell_type": "code",
      "source": [
        "Problem 12:Write a program to print whether a given number is a prime number or not"
      ],
      "metadata": {
        "id": "JdhzGAhk1nG2"
      },
      "execution_count": null,
      "outputs": []
    },
    {
      "cell_type": "code",
      "source": [
        "\n",
        "num=int(input('enter the number'))\n",
        "\n",
        "flag=True\n",
        "for x in range(2,num):\n",
        "  if num%x == 0:\n",
        "    flag=False\n",
        "    break\n",
        "\n",
        "if flag==True:\n",
        "  print(num,'it is prime')\n",
        "else:\n",
        "  print(num,'it is not prime')"
      ],
      "metadata": {
        "id": "YoGjjJSN14We"
      },
      "execution_count": null,
      "outputs": []
    }
  ]
}